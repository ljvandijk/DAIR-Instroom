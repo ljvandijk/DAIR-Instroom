{
  "nbformat": 4,
  "nbformat_minor": 0,
  "metadata": {
    "colab": {
      "provenance": []
    },
    "kernelspec": {
      "name": "python3",
      "display_name": "Python 3"
    },
    "language_info": {
      "name": "python"
    }
  },
  "cells": [
    {
      "cell_type": "code",
      "execution_count": null,
      "metadata": {
        "id": "6t7P1N_XfOQI"
      },
      "outputs": [],
      "source": [
        "Jij bent vroeg! Leuk dat je naar mijn workshop komt. Hier komt het notebook te staan die we gaan gebruiken!"
      ]
    }
  ]
}